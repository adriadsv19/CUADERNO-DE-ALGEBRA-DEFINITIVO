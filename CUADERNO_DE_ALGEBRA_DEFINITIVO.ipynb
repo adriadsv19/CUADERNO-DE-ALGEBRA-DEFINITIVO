{
  "nbformat": 4,
  "nbformat_minor": 0,
  "metadata": {
    "colab": {
      "provenance": [],
      "authorship_tag": "ABX9TyNz1ZPre0WLi0cAnV2H4vt3",
      "include_colab_link": true
    },
    "kernelspec": {
      "name": "python3",
      "display_name": "Python 3"
    },
    "language_info": {
      "name": "python"
    }
  },
  "cells": [
    {
      "cell_type": "markdown",
      "metadata": {
        "id": "view-in-github",
        "colab_type": "text"
      },
      "source": [
        "<a href=\"https://colab.research.google.com/github/adriadsv19/CUADERNO-DE-ALGEBRA-DEFINITIVO/blob/main/CUADERNO_DE_ALGEBRA_DEFINITIVO.ipynb\" target=\"_parent\"><img src=\"https://colab.research.google.com/assets/colab-badge.svg\" alt=\"Open In Colab\"/></a>"
      ]
    },
    {
      "cell_type": "markdown",
      "source": [
        "\n",
        "# MATRICES\n",
        "A continuacion se podran ejemplos de las diversas matrices de forma normal y como se podrian generar mediante codigo \n",
        "\n",
        "**TIPOS DE MATRICES** \n",
        "\n",
        "Una matriz es una estructura de datos bidimensional compuesta por filas y columnas para organizar y manipular información.\n",
        "- **MATRIZ NULA:** \n",
        "Una matriz nula es la que todos sus elementos son 0\n",
        "\n",
        "A mxn = 0\n",
        "- **EJEMPLOS:** \n",
        "$$\n",
        "\\left(\\begin{array}{cc} \n",
        "0 & 0& 0\\\\\n",
        "0 & 0& 0\\\\\n",
        "0 & 0& 0\n",
        "\\end{array}\\right) \n",
        "$$\n",
        "\n",
        "\n",
        "\n"
      ],
      "metadata": {
        "id": "bLHl_kzC3OH6"
      }
    },
    {
      "cell_type": "markdown",
      "source": [
        "***COMO IDENTIFICAR UNA MATRIZ NULA MEDIANTE CODIGO:***"
      ],
      "metadata": {
        "id": "8BxNf0syYAHn"
      }
    },
    {
      "cell_type": "code",
      "source": [
        "import numpy as np\n",
        "\n",
        "# Definir una matriz aleatoria\n",
        "matriz = np.random.randint(-9, 9, size=(3, 3))\n",
        "es_nula = np.all(matriz == 0)\n",
        "\n",
        "print(\"Matriz:\")\n",
        "print(matriz)\n",
        "print(\"Es una matriz nula:\", es_nula)\n",
        "\n",
        "print(\"NO se puede definir mediante 0 asique si el algoritmo da error significa que es nula si no, no es nula\")"
      ],
      "metadata": {
        "colab": {
          "base_uri": "https://localhost:8080/",
          "height": 0
        },
        "id": "zO7hXPm8YQkV",
        "outputId": "0c5b18f2-10ed-43f6-f6e4-ebd21eea44ef"
      },
      "execution_count": 32,
      "outputs": [
        {
          "output_type": "stream",
          "name": "stdout",
          "text": [
            "Matriz:\n",
            "[[-6  7 -8]\n",
            " [-3  0  0]\n",
            " [ 0  8 -5]]\n",
            "Es una matriz nula: False\n",
            "NO se puede definir mediante 0 asique si el algoritmo da error significa que es nula si no, no es nula\n"
          ]
        }
      ]
    },
    {
      "cell_type": "code",
      "source": [
        "import numpy as np\n",
        "\n",
        "# Primero se debe definir las dimensiones de la matriz o de las matrices \n",
        "filas = 3\n",
        "columnas = 3\n",
        "\n",
        "# Crear la matriz nula\n",
        "matriz_nula = np.zeros((filas, columnas))\n",
        "\n",
        "print(matriz_nula)"
      ],
      "metadata": {
        "colab": {
          "base_uri": "https://localhost:8080/",
          "height": 0
        },
        "id": "V6gSRsM75wTE",
        "outputId": "81b8388c-57ff-4c57-ee4a-8b7c7593c3be"
      },
      "execution_count": 1,
      "outputs": [
        {
          "output_type": "stream",
          "name": "stdout",
          "text": [
            "[[0. 0. 0.]\n",
            " [0. 0. 0.]\n",
            " [0. 0. 0.]]\n"
          ]
        }
      ]
    },
    {
      "cell_type": "markdown",
      "source": [
        "- **MATRIZ IDENTIDAD** \n",
        "\n",
        "Una matriz identidad es una matriz cuadrada con unos en la diagonal principal y ceros en las demás posiciones. \n",
        "\n",
        "***EJEMPLO:***\n",
        "\n",
        "$$\n",
        "\\left(\\begin{array}{cc} \n",
        "1 & 0& 0\\\\\n",
        "0 & 1& 0\\\\\n",
        "0 & 0& 1\n",
        "\\end{array}\\right) \n",
        "$$\n"
      ],
      "metadata": {
        "id": "D29nUfTb62Qm"
      }
    },
    {
      "cell_type": "markdown",
      "source": [
        "***COMO IDENTIFICAR UNA MATRIZ IDENTIDAD MEDIANTE CODIGO:***"
      ],
      "metadata": {
        "id": "wu6es_2YaEFy"
      }
    },
    {
      "cell_type": "code",
      "source": [
        "import numpy as np\n",
        "\n",
        "# Tamaño de la matriz cuadrada\n",
        "n = 3\n",
        "\n",
        "# Generar una matriz cuadrada aleatoriamente\n",
        "matriz = np.random.randint(0, 2, size=(n, n))\n",
        "es_identidad = np.array_equal(matriz, np.eye(n))\n",
        "\n",
        "print(\"Es una matriz identidad:\", es_identidad)\n",
        "print(\"Matriz:\")\n",
        "print(matriz)\n"
      ],
      "metadata": {
        "colab": {
          "base_uri": "https://localhost:8080/",
          "height": 0
        },
        "id": "QuCjVNDgaJm-",
        "outputId": "e8c8e148-054e-4833-bd3a-166c6b18708d"
      },
      "execution_count": 46,
      "outputs": [
        {
          "output_type": "stream",
          "name": "stdout",
          "text": [
            "Es una matriz identidad: False\n",
            "Matriz:\n",
            "[[1 1 1]\n",
            " [0 0 0]\n",
            " [1 0 0]]\n"
          ]
        }
      ]
    },
    {
      "cell_type": "code",
      "source": [
        "import numpy as np\n",
        "\n",
        "# Definir el tamaño de la matriz identidad\n",
        "n = 3\n",
        "\n",
        "# Crear la matriz identidad\n",
        "matriz_identidad = np.eye(n)\n",
        "\n",
        "print(matriz_identidad)"
      ],
      "metadata": {
        "colab": {
          "base_uri": "https://localhost:8080/",
          "height": 0
        },
        "id": "mapK00vX9VTz",
        "outputId": "4f33dcdc-cbec-44b3-b1b5-7326c8925686"
      },
      "execution_count": 3,
      "outputs": [
        {
          "output_type": "stream",
          "name": "stdout",
          "text": [
            "[[1. 0. 0.]\n",
            " [0. 1. 0.]\n",
            " [0. 0. 1.]]\n"
          ]
        }
      ]
    },
    {
      "cell_type": "markdown",
      "source": [
        "- **MATRIS DIAGONAL**\n",
        "\n",
        "Es una matriz cuadrada A ∈ Mn(F) se denomina diagonal si todas sus componentes externos a la diagonal principal son iguales a cero.\n",
        "\n",
        "Una matriz A=(aij) A = ( a i j ) es diagonal cuando los elementos que no están en la diagonal son 0. Es decir, aij=0 a i j = 0 si i≠j i ≠ j .\n",
        "\n",
        "Un pequeño ejemplo es la matriz identidad vsita anteriormente \n",
        "\n",
        "***EJEMPLO:***\n",
        "\n",
        "$$\n",
        "\\left(\\begin{array}{cc} \n",
        "9 & 0& 0\\\\\n",
        "0 & 2& 0\\\\\n",
        "0 & 0& 4\n",
        "\\end{array}\\right) \n",
        "$$"
      ],
      "metadata": {
        "id": "5Qyw9u5l-AlC"
      }
    },
    {
      "cell_type": "markdown",
      "source": [
        "**IDENTIFICAR SI LA MATRIZ ES DIAGONAL MEIDANTE CODIGO:**"
      ],
      "metadata": {
        "id": "WsS5tV45b5mE"
      }
    },
    {
      "cell_type": "code",
      "source": [
        "import numpy as np\n",
        "\n",
        "# Definir el tamaño de la matriz cuadrada\n",
        "n = 3\n",
        "\n",
        "# Generar una matriz\n",
        "matriz = np.random.randint(1, 9, size=(n, n))\n",
        "\n",
        "es_diagonal = np.array_equal(matriz, np.diag(np.diagonal(matriz)))\n",
        "print(\"Es una matriz diagonal:\", es_diagonal)\n",
        "print(\"Matriz:\")\n",
        "print(matriz)"
      ],
      "metadata": {
        "colab": {
          "base_uri": "https://localhost:8080/",
          "height": 0
        },
        "id": "wqPvh5uKb_yT",
        "outputId": "84187b15-c81e-48e9-c893-00ce67a7a4f6"
      },
      "execution_count": 48,
      "outputs": [
        {
          "output_type": "stream",
          "name": "stdout",
          "text": [
            "Es una matriz diagonal: False\n",
            "Matriz:\n",
            "[[4 5 3]\n",
            " [1 3 3]\n",
            " [2 1 6]]\n"
          ]
        }
      ]
    },
    {
      "cell_type": "code",
      "source": [
        "import numpy as np\n",
        "\n",
        "# elementos de la diagonal\n",
        "diagonal_elements = [2,7, 5]\n",
        "\n",
        "# Creacion de la matriz\n",
        "matriz_diagonal = np.diag(diagonal_elements)\n",
        "\n",
        "print(matriz_diagonal)"
      ],
      "metadata": {
        "colab": {
          "base_uri": "https://localhost:8080/",
          "height": 0
        },
        "id": "F4dc8SKaR0lP",
        "outputId": "b00d053a-48a4-418f-be8e-b35c41fa60d7"
      },
      "execution_count": 4,
      "outputs": [
        {
          "output_type": "stream",
          "name": "stdout",
          "text": [
            "[[2 0 0]\n",
            " [0 7 0]\n",
            " [0 0 5]]\n"
          ]
        }
      ]
    },
    {
      "cell_type": "markdown",
      "source": [
        "- **TRIANGULO SUPERIOR**\n",
        "\n",
        "Es una matriz cuadrada que tiene un triángulo de ceros 0 debajo de la diagonal principal.\n",
        "\n",
        "***EJEMPLO:***\n",
        "\n",
        "$$\n",
        "\\left(\\begin{array}{cc} \n",
        "8 & 3& 6\\\\\n",
        "0 & 2& 2\\\\\n",
        "0 & 0& 3\n",
        "\\end{array}\\right) \n",
        "$$"
      ],
      "metadata": {
        "id": "OzeMCXIFSXyA"
      }
    },
    {
      "cell_type": "code",
      "source": [
        "import numpy as np\n",
        "\n",
        "# Los elementos de la matriz triangular\n",
        "elementos = [[2, 7, 6],\n",
        "             [0, 5, 4],\n",
        "             [0, 0, 3]]\n",
        "\n",
        "# Crear la matriz \n",
        "matriz_triangular = np.array(elementos)\n",
        "\n",
        "print(matriz_triangular)"
      ],
      "metadata": {
        "colab": {
          "base_uri": "https://localhost:8080/",
          "height": 0
        },
        "id": "GDw33PmtSs4q",
        "outputId": "2103dd4c-d05f-4ae2-c9c8-7376cf212ccb"
      },
      "execution_count": 5,
      "outputs": [
        {
          "output_type": "stream",
          "name": "stdout",
          "text": [
            "[[2 7 6]\n",
            " [0 5 4]\n",
            " [0 0 3]]\n"
          ]
        }
      ]
    },
    {
      "cell_type": "markdown",
      "source": [
        "- **TRIANGULO INFERIOR** \n",
        "\n",
        "La matriz triangular inferior es una matriz cuadrada que tiene un \n",
        "triángulo de ceros 0 encima de la diagonal principal.\n",
        "\n",
        "***EJEMPLO:***\n",
        "\n",
        "$$\n",
        "\\left(\\begin{array}{cc} \n",
        "5 & 0& 0\\\\\n",
        "4 & 2& 0\\\\\n",
        "6 & 6& 4\n",
        "\\end{array}\\right) \n",
        "$$"
      ],
      "metadata": {
        "id": "g-xHJFBeTHxv"
      }
    },
    {
      "cell_type": "code",
      "source": [
        "import numpy as np\n",
        "\n",
        "# Elementos de la matriz:\n",
        "elementos = [[9, 6, 7],\n",
        "             [0, 2, 7],\n",
        "             [0, 0, 3]]\n",
        "\n",
        "# Creacion la matriz:\n",
        "matriz_triangular_inferior = np.array(elementos)\n",
        "\n",
        "print(matriz_triangular_inferior)\n"
      ],
      "metadata": {
        "colab": {
          "base_uri": "https://localhost:8080/",
          "height": 0
        },
        "id": "ul4WhJygTkIG",
        "outputId": "82839241-78ea-4f62-bbc1-c022eb7ac504"
      },
      "execution_count": 6,
      "outputs": [
        {
          "output_type": "stream",
          "name": "stdout",
          "text": [
            "[[9 6 7]\n",
            " [0 2 7]\n",
            " [0 0 3]]\n"
          ]
        }
      ]
    },
    {
      "cell_type": "markdown",
      "source": [
        "- **TRIANGULO SIMETRICO**\n",
        "\n",
        "Es una matriz con el mismo número de filas y columnas donde la matriz traspuesta es exactamente igual a la matriz original. \n",
        "\n",
        "***EJEMPLO:***\n",
        "\n",
        "$$\n",
        "\\left(\\begin{array}{cc} \n",
        "5 & 1& 3\\\\\n",
        "1& 7& 2\\\\\n",
        "3 & 2& 4\n",
        "\\end{array}\\right) \n",
        "$$"
      ],
      "metadata": {
        "id": "-RViJO3OT6n-"
      }
    },
    {
      "cell_type": "code",
      "source": [
        "import numpy as np\n",
        "\n",
        "# Definir los elementos \n",
        "elementos = [[9, 2, 8],\n",
        "             [2, 7, 6],\n",
        "             [8, 6, 4]]\n",
        "\n",
        "# Crear la matriz\n",
        "matriz_simetrica = np.array(elementos)\n",
        "\n",
        "es_simetrica = np.allclose(matriz_simetrica, matriz_simetrica.T)\n",
        "\n",
        "if es_simetrica:\n",
        "    print(\"La matriz es simétrica\")\n",
        "else:\n",
        "    print(\"La matriz no es simétrica\")\n",
        "\n",
        "print(matriz_simetrica)"
      ],
      "metadata": {
        "colab": {
          "base_uri": "https://localhost:8080/",
          "height": 0
        },
        "id": "XSMr7gndUY2q",
        "outputId": "9e42fa91-bdf3-42bb-c785-bcad1a576b66"
      },
      "execution_count": 7,
      "outputs": [
        {
          "output_type": "stream",
          "name": "stdout",
          "text": [
            "La matriz es simétrica\n",
            "[[9 2 8]\n",
            " [2 7 6]\n",
            " [8 6 4]]\n"
          ]
        }
      ]
    },
    {
      "cell_type": "markdown",
      "source": [
        "- **ANTISIMETRICO** \n",
        "\n",
        "Una matriz antisimétrica es una matriz cuadrada donde los elementos fuera de la diagonal principal son simétricamente iguales pero sus simbolos son negativos (-)\n",
        "\n",
        "***EJEMPLO:***\n",
        "\n",
        "$$\n",
        "\\left(\\begin{array}{cc} \n",
        "5 & 1& 3\\\\\n",
        "-1& 7& 2\\\\\n",
        "-3 & -2& 4\n",
        "\\end{array}\\right) \n",
        "$$"
      ],
      "metadata": {
        "id": "1faUNpS_UwuM"
      }
    },
    {
      "cell_type": "code",
      "source": [
        "import numpy as np\n",
        "# Definir los elementos de la matriz antisimétrica\n",
        "elementos = [[0, 2, -2],\n",
        "             [-2, 0, 4],\n",
        "             [-2, -4, 0]]\n",
        "\n",
        "# Crear la matriz \n",
        "matriz_antisimetrica = np.array(elementos)\n",
        "es_antisimetrica = np.allclose(matriz_antisimetrica, -matriz_antisimetrica.T)\n",
        "\n",
        "print(matriz_antisimetrica)"
      ],
      "metadata": {
        "colab": {
          "base_uri": "https://localhost:8080/",
          "height": 0
        },
        "id": "9jOMLo5dVVjL",
        "outputId": "5a4cfa4c-61b7-45e5-865b-a4768ea82b57"
      },
      "execution_count": 9,
      "outputs": [
        {
          "output_type": "stream",
          "name": "stdout",
          "text": [
            "[[ 0  2 -2]\n",
            " [-2  0  4]\n",
            " [-2 -4  0]]\n"
          ]
        }
      ]
    },
    {
      "cell_type": "markdown",
      "source": [
        "## **POTENCIA DE MATRICES**\n",
        "\n",
        "La potencia de una o varias matrices se obtiene por la multiplicación de la matriz por sí misma 'n' veces.\n",
        "\n",
        "**EJEMPLO:**\n",
        "\n",
        "$$\n",
        "\\left(\\begin{array}{cc} \n",
        "1 & 2& 5\\\\\n",
        "3 & 4& 2\\\\\n",
        "3 & 4& 7\n",
        "\\end{array}\\right) ^2 =\n",
        "\\left(\\begin{array}{cc} \n",
        "22 & 30& 44\\\\\n",
        "21& 30& 37\\\\\n",
        "36& 50& 72\n",
        "\\end{array}\\right) \n",
        "$$"
      ],
      "metadata": {
        "id": "RIOUJVU0e1so"
      }
    },
    {
      "cell_type": "code",
      "source": [
        "import numpy as np\n",
        "\n",
        "# Definir la matriz\n",
        "matriz = np.array([[1, 2,5], [3, 4,2],[3, 4,7]])\n",
        "\n",
        "# Elevar la matriz a una potencia\n",
        "# Si la se quiere cambiar la potencia el siguiente valor:\n",
        "potencia = 2\n",
        "resultado = np.linalg.matrix_power(matriz, potencia)\n",
        "\n",
        "print(resultado)"
      ],
      "metadata": {
        "colab": {
          "base_uri": "https://localhost:8080/",
          "height": 0
        },
        "id": "d6mTStGLeshL",
        "outputId": "74973b61-3d4d-4e10-8d93-f02d6017dd28"
      },
      "execution_count": 57,
      "outputs": [
        {
          "output_type": "stream",
          "name": "stdout",
          "text": [
            "[[22 30 44]\n",
            " [21 30 37]\n",
            " [36 50 72]]\n"
          ]
        }
      ]
    },
    {
      "cell_type": "markdown",
      "source": [
        "# **DETERMINANTES**\n",
        "\n",
        "El determinante de una matriz es una medida numérica que se calcula a partir de los elementos de la matriz. Para que exista un determinante, la matriz debe ser cuadrada, es decir, tener el mismo número de filas y columnas.\n",
        "\n",
        "El determinante se denota típicamente como det(A)o como |A|, donde A representa la matriz en cuestión.\n",
        "\n",
        "¿Cómo se resuelven los determinantes?\n",
        "\n",
        "El determinante de una matriz cuadrada (matriz con el mismo número de filas que de columna) se obtiene de restar la multiplicación de los elementos de la diagonal principal de la matriz y la multiplicación de los elementos de la diagonal secundaria de la misma matriz.\n",
        "\n",
        "**EJEMPLO DE MATRIZ DETERMINANTE:** \n",
        "\n",
        "$$\n",
        "\\left(\\begin{array}{cc} \n",
        "5 & 1& 2\\\\\n",
        "4& 7& 2\\\\\n",
        "3 & 2& 4\n",
        "\\end{array}\\right) =  83.99999999999999\n",
        "$$"
      ],
      "metadata": {
        "id": "EIebNenyi5iB"
      }
    },
    {
      "cell_type": "code",
      "source": [
        "import numpy as np\n",
        "\n",
        "# Definir una matriz de ejemplo\n",
        "matriz = np.array([[5, 1, 2],\n",
        "                   [4, 7, 2],\n",
        "                   [3, 2, 4]])\n",
        "determinante = np.linalg.det(matriz)\n",
        "\n",
        "# Imprimir el resultado\n",
        "print(\"El determinante de la matriz es:\", determinante)"
      ],
      "metadata": {
        "colab": {
          "base_uri": "https://localhost:8080/",
          "height": 0
        },
        "id": "IG-Pzuz5lcd-",
        "outputId": "b2e24e58-d196-41e3-8c72-2e40256cd406"
      },
      "execution_count": 58,
      "outputs": [
        {
          "output_type": "stream",
          "name": "stdout",
          "text": [
            "El determinante de la matriz es: 83.99999999999999\n"
          ]
        }
      ]
    },
    {
      "cell_type": "markdown",
      "source": [
        "#**SISTEMA DE ECUACIONES DE PRIMER GRADO** \n",
        "\n",
        "Una ecuación que es de primer grado es una ecuación cuya solución viene dada por, el producto de sus variables y el valor medio de sus fórmulas integrales.\n",
        "\n",
        "$$5x + 4 = 0: es: -0.8 \n",
        "$$"
      ],
      "metadata": {
        "id": "ydn52KnEmh6I"
      }
    },
    {
      "cell_type": "code",
      "source": [
        "# Definir los coeficientes de la ecuación\n",
        "a = 5\n",
        "b = 4\n",
        "\n",
        "# Resolver la ecuación de primer grado\n",
        "x = -b / a\n",
        "\n",
        "# Imprimir el resultado\n",
        "print(\"La solución de la ecuación\", a, \"x +\", b, \"= 0 es:\")\n",
        "print(\"x =\", x)"
      ],
      "metadata": {
        "colab": {
          "base_uri": "https://localhost:8080/",
          "height": 0
        },
        "id": "9PStLXCmm4eD",
        "outputId": "0de08fc3-b9c6-4f4a-ff71-7fd5132ebfd0"
      },
      "execution_count": 59,
      "outputs": [
        {
          "output_type": "stream",
          "name": "stdout",
          "text": [
            "La solución de la ecuación 5 x + 4 = 0 es:\n",
            "x = -0.8\n"
          ]
        }
      ]
    },
    {
      "cell_type": "markdown",
      "source": [
        "## **SISTEMA DE ECUACIONES EN MATRICES** \n",
        "\n",
        "\n",
        "Un sistema de ecuaciones lineales se puede representar mediante una ecuación matricial de la forma AX = B, donde A es la matriz de coeficientes, X es la matriz de incógnitas y B es la matriz de términos independientes. Esta representación matricial permite una forma concisa de expresar y resolver sistemas de ecuaciones lineales de manera eficiente.\n",
        "\n",
        "**EJEMPLO:**\n",
        "\n",
        "\n",
        "$$\n",
        "\\left(\\begin{array}{cc} \n",
        "3 & 2\\\\\n",
        "3& -4& \\\\\n",
        "\\end{array}\\right) =\\\\\n",
        "  0.33333333\\\\\n",
        "      \\\\\n",
        " 0.5\n",
        "$$"
      ],
      "metadata": {
        "id": "5sppqyB-o3pC"
      }
    },
    {
      "cell_type": "code",
      "source": [
        "import numpy as np\n",
        "\n",
        "# Definir las matrices de coeficientes y términos independientes del sistema de ecuaciones\n",
        "coeficientes = np.array([[3, 2],\n",
        "                        [3, -4]])\n",
        "\n",
        "terminos_independientes = np.array([2, -1])\n",
        "\n",
        "# Resolver el sistema de ecuaciones\n",
        "solucion = np.linalg.solve(coeficientes, terminos_independientes)\n",
        "\n",
        "# Imprimir la solución\n",
        "print(\"La solución del sistema de ecuaciones es:\")\n",
        "print(\"x =\", solucion[0])\n",
        "print(\"y =\", solucion[1])\n"
      ],
      "metadata": {
        "colab": {
          "base_uri": "https://localhost:8080/",
          "height": 0
        },
        "id": "1_sm8WwOqD-_",
        "outputId": "a6d385a5-c60a-4c1d-ec25-ef1b4cdf74fe"
      },
      "execution_count": 61,
      "outputs": [
        {
          "output_type": "stream",
          "name": "stdout",
          "text": [
            "La solución del sistema de ecuaciones es:\n",
            "x = 0.3333333333333333\n",
            "y = 0.5\n"
          ]
        }
      ]
    },
    {
      "cell_type": "markdown",
      "source": [
        "##**METODO DE CRAMER**\n",
        "\n",
        "\n",
        "La regla de Cramer es un método para resolver sistemas de ecuaciones lineales con \"n\" ecuaciones y \"n\" incógnitas, siempre y cuando dos condiciones se cumplan: el número de ecuaciones debe ser igual al número de incógnitas, y el determinante de la matriz de coeficientes debe ser diferente de cero. En resumen, Cramer se aplica cuando el sistema satisface estas dos condiciones: \"n\" ecuaciones = \"n\" incógnitas y el determinante de la matriz de coeficientes es distinto de cero (det(A) ≠ 0).\n",
        "\n",
        "**EJEMPLO:**\n",
        "\n",
        "$$\n",
        "\\left(\\begin{array}{cc} \n",
        "9 & 4\\\\\n",
        "-2 & 3& \\\\\n",
        "\\end{array}\\right): \\\\\n",
        "  x = 0.2857142857142856\\\\\n",
        "  y = -0.14285714285714285\n",
        "$$"
      ],
      "metadata": {
        "id": "5ZeAvsUVsE1j"
      }
    },
    {
      "cell_type": "code",
      "source": [
        "import numpy as np\n",
        "\n",
        "# Definir la matriz\n",
        "coeficientes = np.array([[9, 4],\n",
        "                        [-2, 3]])\n",
        "\n",
        "terminos_independientes = np.array([2, -1])\n",
        "\n",
        "# Calcular el determinante de la matriz de coeficientes\n",
        "determinante_coeficientes = np.linalg.det(coeficientes)\n",
        "\n",
        "\n",
        "determinante_x = np.linalg.det(np.column_stack((terminos_independientes, coeficientes[:, 1])))\n",
        "determinante_y = np.linalg.det(np.column_stack((coeficientes[:, 0], terminos_independientes)))\n",
        "\n",
        "solucion_x = determinante_x / determinante_coeficientes\n",
        "solucion_y = determinante_y / determinante_coeficientes\n",
        "\n",
        "# Imprimir la solución\n",
        "print(\"La solución del sistema de ecuaciones es:\")\n",
        "print(\"x =\", solucion_x)\n",
        "print(\"y =\", solucion_y)"
      ],
      "metadata": {
        "colab": {
          "base_uri": "https://localhost:8080/",
          "height": 0
        },
        "id": "tWFoSO5rs0Gw",
        "outputId": "ab07a0cb-8df2-4228-c1e4-5a1a0cc1f37e"
      },
      "execution_count": 62,
      "outputs": [
        {
          "output_type": "stream",
          "name": "stdout",
          "text": [
            "La solución del sistema de ecuaciones es:\n",
            "x = 0.2857142857142856\n",
            "y = -0.14285714285714285\n"
          ]
        }
      ]
    },
    {
      "cell_type": "markdown",
      "source": [
        "##**FACTORIZACION \"LU\"**##\n",
        "La factorización LU es un método utilizado en álgebra lineal para descomponer una matriz cuadrada en el producto de dos matrices: una matriz triangular inferior (L) y una matriz triangular superior (U). Esta descarga es útil para resolver sistemas de ecuaciones lineales de manera eficiente, ya que se divide el proceso en dos etapas: sustitución hacia adelante y sustitución hacia atrás. Además, la factorización LU también se utiliza para calcular determinantes e inversas de matrices. Existen diferentes métodos numéricos y algebraicos para realizar la factorización LU, como la eliminación de Gauss y las descomposiciones de Doolittle y Crout.\n",
        "\n",
        "La factorización LU tiene aplicaciones en diversos campos de las matemáticas y la computación, como el análisis numérico, la optimización, la simulación y el procesamiento de imágenes. Este método proporciona una forma eficiente y estructurada de resolver sistemas de ecuaciones y realizar otros cálculos matriciales importantes. Además, la factorización LU puede aprovecharse para resolver repetidamente sistemas con diferentes términos independientes, lo que ahorra tiempo de cómputo al evitar la repetición de la extracción de la matriz. En resumen, la factorización LU es una herramienta esencial en el álgebra lineal que proporciona soluciones eficientes y versátiles para una amplia gama de problemas matemáticos y computacionales.\n",
        "\n",
        "\n",
        "**EJEMPLO:**  \n",
        "$$\n",
        "\\left(\\begin{array}{cc} \n",
        "1 & 2& 5\\\\\n",
        "3 & 4& 2\\\\\n",
        "3 & 4& 7\n",
        "\\end{array}\\right) = L\n",
        "\\left(\\begin{array}{cc} \n",
        "1 & 0& 0\\\\\n",
        "0.333& 1& 0\\\\\n",
        "1& 0& 1\n",
        "\\end{array}\\right) U\n",
        "\\left(\\begin{array}{cc} \n",
        "3 & 4& 2\\\\\n",
        "0& 0.66666667& 4.3333\\\\\n",
        "0& 0& 5\n",
        "\\end{array}\\right) \n",
        "$$\n",
        "\n",
        "\n",
        "\n"
      ],
      "metadata": {
        "id": "ql2dzRNQw6xZ"
      }
    },
    {
      "cell_type": "code",
      "source": [
        "import numpy as np\n",
        "from scipy.linalg import lu\n",
        "\n",
        "# Definir la matriz\n",
        "matriz = np.array([[1, 2, 5],\n",
        "                   [3, 4, 2],\n",
        "                   [3, 4, 7]])\n",
        "P, L, U = lu(matriz)\n",
        "\n",
        "# Imprimir  L\n",
        "print(\"Matriz L:\")\n",
        "print(L)\n",
        "print()\n",
        "\n",
        "# Imprimir U\n",
        "print(\"Matriz U:\")\n",
        "print(U)\n",
        "print()\n",
        "\n",
        "# Imprimir P\n",
        "print(\"Matriz P:\")\n",
        "print(P)\n",
        "print()"
      ],
      "metadata": {
        "colab": {
          "base_uri": "https://localhost:8080/",
          "height": 0
        },
        "id": "m6ZSUGB8y9Om",
        "outputId": "bd7f7c27-a68c-4b80-d831-b1cbb8e96af4"
      },
      "execution_count": 64,
      "outputs": [
        {
          "output_type": "stream",
          "name": "stdout",
          "text": [
            "Matriz L:\n",
            "[[1.         0.         0.        ]\n",
            " [0.33333333 1.         0.        ]\n",
            " [1.         0.         1.        ]]\n",
            "\n",
            "Matriz U:\n",
            "[[3.         4.         2.        ]\n",
            " [0.         0.66666667 4.33333333]\n",
            " [0.         0.         5.        ]]\n",
            "\n",
            "Matriz P:\n",
            "[[0. 1. 0.]\n",
            " [1. 0. 0.]\n",
            " [0. 0. 1.]]\n",
            "\n"
          ]
        }
      ]
    },
    {
      "cell_type": "markdown",
      "source": [
        "#**SUBESPACIOS VECTORIALES**\n",
        "Los subespacios vectoriales son conjuntos de vectores que cumplen ciertas propiedades y forman estructuras matemáticas importantes en el álgebra lineal. Un subespacio vectorial de un espacio vectorial dado es un conjunto de vectores que satisfacen dos condiciones fundamentales: bloqueo bajo la adición y bloqueo bajo la multiplicación por un escalar.\n",
        "\n",
        "La bajo la cerradura significa que si tomamos dos vectores en el subespacio, su suma también estará en el subespacio. Formalmente, para cualquier vector uyv en el subespacio, la suma u + v también pertenece al subespacio.\n",
        "\n",
        "La bajo cerradura la multiplicación por un escalar establece que si tomamos un vector en el subespacio y lo multiplicamos por un escalar, el resultado también estará en el subespacio. Es decir, para cualquier vector u en el subespacio y cualquier escalar c, el producto c * u también pertenece al subespacio.\n",
        "\n",
        "Además de estas dos condiciones, un subespacio vectorial debe contener el vector cero (el vector nulo) y ser no vacío.\n",
        "\n",
        "Los subespacios vectoriales pueden ser de diferentes dimensiones y formas. Algunos ejemplos comunes incluyen el espacio vectorial R³ (el espacio tridimensional), el plano xy en R³ y la línea recta que pasa por el origen en R³. Los subespacios vectoriales son fundamentales en el estudio de transformaciones lineales, sistemas de ecuaciones lineales y otras áreas de las matemáticas y la física.\n",
        "\n",
        "**EJEMPLOS:**\n",
        "\n",
        "$$\n",
        "\\left(\\begin{array}{cc} \n",
        "1 & 2& 5\\\\\n",
        "3 & 9& 2\\\\\n",
        "3 & 3& 7\n",
        "\\end{array}\\right): El-vecto-no-pertenece-al-subespacio -generado -por- las- columnas -de -la- matriz.\n",
        "$$"
      ],
      "metadata": {
        "id": "HUWuwriN2ryK"
      }
    },
    {
      "cell_type": "code",
      "source": [
        "import numpy as np\n",
        "\n",
        "# Definir una matriz de ejemplo\n",
        "matriz = np.array([[1, 2, 5],\n",
        "                   [4, 9, 6],\n",
        "                   [7, 3, 9]])\n",
        "\n",
        "# Definir un vector de ejemplo\n",
        "vector = np.array([1, 2, 3])\n",
        "\n",
        "# Comprobar si el vector pertenece al subespacio generado por las columnas de la matriz\n",
        "perteneciente = np.allclose(matriz @ vector, 0)\n",
        "\n",
        "# Imprimir el resultado\n",
        "\n",
        "if perteneciente:\n",
        "    print(\"El vector pertenece al subespacio generado por las columnas de la matriz.\")\n",
        "else:\n",
        "    print(\"El vector no pertenece al subespacio generado por las columnas de la matriz.\")"
      ],
      "metadata": {
        "colab": {
          "base_uri": "https://localhost:8080/",
          "height": 0
        },
        "id": "vMDALJv_55DX",
        "outputId": "2a5de887-37ed-480e-f19e-217b61e607a5"
      },
      "execution_count": 69,
      "outputs": [
        {
          "output_type": "stream",
          "name": "stdout",
          "text": [
            "El vector no pertenece al subespacio generado por las columnas de la matriz.\n"
          ]
        }
      ]
    },
    {
      "cell_type": "markdown",
      "source": [
        "**SUBESPACIOS VECTORIALES** \n",
        "\n",
        "Un subespacio vectorial es un conjunto de vectores que satisface ciertas propiedades y forma una estructura matemática dentro de un espacio vectorial más grande. Para ser considerado un subespacio vectorial, el conjunto debe cumplir tres condiciones fundamentales:\n",
        "\n",
        "Contiene el vector cero: El conjunto debe incluir el vector cero, que es el vector que no cambia al sumarlo a otro vector.\n",
        "\n",
        "Cerrado bajo la adición: Si tomamos dos vectores del subespacio y los sumamos, el resultado también debe ser un vector dentro del subespacio.\n",
        "\n",
        "Cerrado bajo la multiplicación por un escalar: Si tomamos cualquier vector del subespacio y lo multiplicamos por un escalar (un número), el resultado también debe ser un vector dentro del subespacio.\n",
        "\n",
        "Estas condiciones aseguran que el subespacio tenga una estructura vectorial coherente y conserve las propiedades algebraicas esenciales de un espacio vectorial más grande.\n",
        "\n",
        "Los subespacios vectoriales pueden ser de diferentes dimensiones y formas. Por ejemplo, en el espacio tridimensional, un subespacio puede ser un plano, una línea recta o incluso solo el vector cero. Los subespacios vectoriales son herramientas fundamentales en el álgebra lineal y se utilizan en una amplia variedad de aplicaciones, como sistemas de ecuaciones lineales, transformaciones lineales y análisis de espacio de características en el aprendizaje automático.\n",
        "\n",
        "**EJEMPLO:**"
      ],
      "metadata": {
        "id": "BVzp2_848u-5"
      }
    },
    {
      "cell_type": "code",
      "source": [
        "import numpy as np\n",
        "\n",
        "# Definir una matriz de ejemplo\n",
        "matriz = np.array([[9, 2, 4],\n",
        "                   [4, 8, 5],\n",
        "0                   [7, 6, 9]])\n",
        "\n",
        "vector = np.array([1, 2, 3])\n",
        "perteneciente = np.allclose(matriz @ vector, 0)\n",
        "\n",
        "# Imprimir el resultado\n",
        "\n",
        "if perteneciente:\n",
        "    print(\"El vector pertenece al subespacio generado por las columnas de la matriz.\")\n",
        "else:\n",
        "    print(\"El vector no pertenece al subespacio generado por las columnas de la matriz.\")"
      ],
      "metadata": {
        "id": "OP4iUVj_-H3i"
      },
      "execution_count": null,
      "outputs": []
    },
    {
      "cell_type": "markdown",
      "source": [
        "# **ECUACIONES DE UNA RECTA**\n",
        "\n",
        "Las ecuaciones de una recta son representaciones matemáticas que describen la posición y la relación geométrica de una línea recta en un plano cartesiano. Existen dos formas comunes de expresar estas ecuaciones: la forma pendiente-intersección y la forma general.\n",
        "\n",
        "En la forma pendiente-intersección, la ecuación de una recta se muestra como y = mx + b, donde \"m\" representa la pendiente de la recta y \"b\" es el punto de intersección con el eje y. La pendiente indica la inclinación de la recta y el punto de intersección muestra dónde cruza el eje vertical.\n",
        "\n",
        "En la forma general, la ecuación de una recta se expresa como Ax + By + C = 0, donde A, B y C son coeficientes que determinan la posición y orientación de la recta en el plano.\n",
        "\n",
        "Estas determinaciones determinaron información precisa sobre la posición, inclinación y otras características geométricas de una recta. Son ampliamente utilizados en geometría analítica, resolución de problemas de intersección de rectas, cálculos de pendientes y ángulos, así como en diversas aplicaciones científicas y técnicas.\n",
        "\n",
        "**EJEMPLO:**\n"
      ],
      "metadata": {
        "id": "2-Gi-uNZ-kyJ"
      }
    },
    {
      "cell_type": "code",
      "source": [
        "import matplotlib.pyplot as plt\n",
        "\n",
        "# Coordenadas de los puntos de la recta\n",
        "x = [1, 5]  # Coordenadas x de los puntos\n",
        "y = [2, 7]  # Coordenadas y de los puntos\n",
        "\n",
        "# Traza la recta\n",
        "plt.plot(x, y)\n",
        "\n",
        "# Configuración de los ejes\n",
        "plt.axhline(0, color='black',linewidth=0.5)\n",
        "plt.axvline(0, color='black',linewidth=0.5)\n",
        "\n",
        "# Etiquetas de los ejes\n",
        "plt.xlabel('Eje x')\n",
        "plt.ylabel('Eje y')\n",
        "\n",
        "# Título del gráfico\n",
        "plt.title('Representación de una recta en el plano')\n",
        "\n",
        "# Muestra el gráfico\n",
        "plt.show()\n"
      ],
      "metadata": {
        "colab": {
          "base_uri": "https://localhost:8080/",
          "height": 472
        },
        "id": "5XY5M-Pp_dUI",
        "outputId": "07e0b983-13bf-4a31-ffec-3f9ecb0f1360"
      },
      "execution_count": 71,
      "outputs": [
        {
          "output_type": "display_data",
          "data": {
            "text/plain": [
              "<Figure size 640x480 with 1 Axes>"
            ],
            "image/png": "[encoded data removed]"
          },
          "metadata": {}
        }
      ]
    },
    {
      "cell_type": "markdown",
      "source": [
        "El gráfico resultante muestra la recta trazada en el plano cartesiano, con los ejes xe y. La línea recta se extiende desde el primer punto hasta el segundo punto definido en el código.\n",
        "\n",
        "La finalidad del ejemplo es ilustrar cómo se puede utilizar el código para visualizar una recta en el plano cartesiano. Puede modificar las coordenadas de los puntos para representar diferentes rectas en el gráfico."
      ],
      "metadata": {
        "id": "kUN3qPeX_rtL"
      }
    },
    {
      "cell_type": "markdown",
      "source": [
        "##**OPERACIONES ENTRE VECTORES**\n",
        "Las operaciones entre vectores son fundamentales en el estudio y análisis de sistemas vectoriales. Estas operaciones permiten combinar y relacionar vectores de manera algebraica y geométrica, lo que nos brinda herramientas poderosas para resolver problemas en distintos campos de la ciencia y la ingeniería. La suma y resta de vectores nos permiten determinar desplazamientos y cambios de posición, el producto escalar nos proporciona información sobre la proyección y la relación de magnitudes entre vectores, y el producto cruz nos ayuda a comprender aspectos de dirección y torsión. Estas operaciones proporcionan una base sólida para comprender y analizar fenómenos físicos, optimizar soluciones en ingeniería y realizar cálculos en espacios de alta dimensionalidad."
      ],
      "metadata": {
        "id": "DD_OO1MFANrB"
      }
    },
    {
      "cell_type": "code",
      "source": [
        "import numpy as np\n",
        "\n",
        "# Definir dos vectores de ejemplo\n",
        "vector1 = np.array([0, 9, 4])\n",
        "vector2 = np.array([7, 1, 6])\n",
        "\n",
        "# Suma de vectores\n",
        "suma = vector1 + vector2\n",
        "\n",
        "# Resta de vectores\n",
        "resta = vector1 - vector2\n",
        "\n",
        "# Producto escalar de vectores\n",
        "producto_escalar = np.dot(vector1, vector2)\n",
        "\n",
        "# Producto vectorial de vectores (solo para vectores de 3 dimensiones)\n",
        "producto_vectorial = np.cross(vector1, vector2)\n",
        "\n",
        "# Imprimir los resultados\n",
        "print(\"Suma de vectores:\", suma)\n",
        "print(\"Resta de vectores:\", resta)\n",
        "print(\"Producto escalar de vectores:\", producto_escalar)\n",
        "print(\"Producto vectorial de vectores:\", producto_vectorial)\n"
      ],
      "metadata": {
        "colab": {
          "base_uri": "https://localhost:8080/",
          "height": 0
        },
        "id": "A1upEVPzCO-O",
        "outputId": "93d42ec9-cb3d-4835-f0a9-16d5a3ca4a5a"
      },
      "execution_count": 72,
      "outputs": [
        {
          "output_type": "stream",
          "name": "stdout",
          "text": [
            "Suma de vectores: [ 7 10 10]\n",
            "Resta de vectores: [-7  8 -2]\n",
            "Producto escalar de vectores: 33\n",
            "Producto vectorial de vectores: [ 50  28 -63]\n"
          ]
        }
      ]
    },
    {
      "cell_type": "markdown",
      "source": [
        "## CONJUNTO LINEALMENTE DEPENDIENTES E INDEPENDIENTES\n",
        "\n",
        "### **LINEALMETE DEPENDIENTE** \n",
        "\n",
        "Un conjunto de vectores se considera linealmente dependiente si al menos uno de los vectores en el conjunto puede ser expresado como una combinación lineal de los demás vectores. En otras palabras, existe al menos un vector en el conjunto que es redundante y puede ser generado a partir de los demás vectores.\n",
        "\n",
        "Formalmente, dado un conjunto de vectores {v₁, v₂, ..., vₙ}, se dice que el conjunto es linealmente dependiente si existen escalares a₁, a₂, ..., aₙ, no todos iguales a cero, tales que a₁v₁ + a₂v₂ + ... + aₙvₙ = 0.\n",
        "\n"
      ],
      "metadata": {
        "id": "z0uePusED3Kg"
      }
    },
    {
      "cell_type": "code",
      "source": [
        "import numpy as np\n",
        "\n",
        "# Definir un conjunto de vectores de ejemplo\n",
        "vectors = np.array([[1, 2, 3],\n",
        "                    [4, 5, 6],\n",
        "                    [7, 8, 9]])\n",
        "\n",
        "dependent = np.linalg.matrix_rank(vectors) < vectors.shape[0]\n",
        "\n",
        "# Imprimir el resultado\n",
        "if dependent:\n",
        "    print(\"El conjunto de vectores es linealmente dependiente.\")\n",
        "else:\n",
        "    print(\"El conjunto de vectores es linealmente independiente.\")\n"
      ],
      "metadata": {
        "colab": {
          "base_uri": "https://localhost:8080/",
          "height": 0
        },
        "id": "sWKX6vLnEQqW",
        "outputId": "b48ae122-810b-461a-80dc-5cd1fbabfc18"
      },
      "execution_count": 73,
      "outputs": [
        {
          "output_type": "stream",
          "name": "stdout",
          "text": [
            "El conjunto de vectores es linealmente dependiente.\n"
          ]
        }
      ]
    },
    {
      "cell_type": "markdown",
      "source": [
        "###**LINEALMENTE INDEPENDIENTE**\n",
        "Un conjunto de vectores se considera linealmente independiente si ninguno de los vectores puede ser expresado como una combinación lineal de los demás vectores en el conjunto. En otras palabras, ningún vector del conjunto puede ser escrito como una suma ponderada de los otros vectores.\n",
        "\n",
        "Formalmente, dado un conjunto de vectores {v₁, v₂, ..., vₙ}, se dice que el conjunto es linealmente independiente si la única forma de satisfacer la ecuación a₁v₁ + a₂v₂ + ... + aₙvₙ = 0, donde a₁, a₂, ..., aₙ son escalares, es haciendo que todos los coeficientes sean iguales a cero (a₁ = a₂ = ... = aₙ = 0)."
      ],
      "metadata": {
        "id": "tivKMFdMEpaX"
      }
    },
    {
      "cell_type": "code",
      "source": [
        "import numpy as np\n",
        "\n",
        "# Definir un conjunto\n",
        "vectors = np.array([[1, 0, 0],\n",
        "                    [0, 1, 0],\n",
        "                    [0, 0, 1]])\n",
        "\n",
        "dependent = np.linalg.matrix_rank(vectors) < vectors.shape[0]\n",
        "\n",
        "# Imprimir el resultado\n",
        "if dependent:\n",
        "    print(\"El conjunto de vectores es linealmente dependiente.\")\n",
        "else:\n",
        "    print(\"El conjunto de vectores es linealmente independiente.\")"
      ],
      "metadata": {
        "colab": {
          "base_uri": "https://localhost:8080/",
          "height": 0
        },
        "id": "4UhofbnXEgk4",
        "outputId": "673d9be5-170b-4417-967c-f236efee5798"
      },
      "execution_count": 74,
      "outputs": [
        {
          "output_type": "stream",
          "name": "stdout",
          "text": [
            "El conjunto de vectores es linealmente independiente.\n"
          ]
        }
      ]
    },
    {
      "cell_type": "markdown",
      "source": [
        "## **CAMBIO DE BASE**\n",
        "\n",
        "El cambio de base en un vector se refiere a expresar un vector en términos de una nueva base en lugar de la base original. Esto implica encontrar las coordenadas del vector en la nueva base.\n",
        "\n",
        "Supongamos que tenemos un vector v y dos bases: la base original B = {v₁, v₂, ..., vₙ} y la nueva base B' = {u₁, u₂, ..., uₙ}. Para expresar el vector v en términos de la nueva base, necesitamos encontrar los coeficientes o coordenadas que multiplican a cada vector de la nueva base para formar el vector v.\n",
        "\n",
        "Podemos representar el vector v como una combinación lineal de los vectores de la base original:\n",
        "v = a₁v₁ + a₂v₂ + ... + aₙvₙ\n",
        "\n",
        "Luego, para encontrar los coeficientes en la nueva base, debemos resolver el siguiente sistema de ecuaciones:\n",
        "v = b₁u₁ + b₂u₂ + ... + bₙuₙ\n",
        "\n",
        "Donde b₁, b₂, ..., bₙ son los coeficientes en la nueva base.\n",
        "\n",
        "Una vez que se resuelve el sistema de ecuaciones, los coeficientes b₁, b₂, ..., bₙ representan las coordenadas del vector v en la nueva base B'. Estas coordenadas indican cómo se puede combinar cada vector de la nueva base para obtener el vector v.\n",
        "\n",
        "El cambio de base es útil en álgebra lineal y tiene aplicaciones en diversas áreas, como la geometría, el procesamiento de imágenes y la resolución de sistemas de ecuaciones lineales. Permite transformar vectores y realizar cálculos en diferentes bases según las necesidades del problema.\n",
        "\n",
        "## **EJEMPLO:**\n",
        "\n",
        "$$\n",
        "VECTOR EN BASE ORIGINAL \\left(\\begin{array}{cc} \n",
        "8 & 4\\\\\n",
        "\\end{array}\\right) = VECTOR EN NUEVA BASE \n",
        "\\left(\\begin{array}{cc} \n",
        "16 & 44\\\\\n",
        "\\end{array}\\right)\n",
        "$$"
      ],
      "metadata": {
        "id": "fS7f5cMxE52u"
      }
    },
    {
      "cell_type": "code",
      "source": [
        "import numpy as np\n",
        "\n",
        "# Definir la matriz\n",
        "matriz_cambio_base = np.array([[5, -6],\n",
        "                               [3, 5]])\n",
        "\n",
        "vector_base_original = np.array([8, 4])\n",
        "\n",
        "# Calcular el vector en la nueva base\n",
        "vector_base_nueva = np.dot(matriz_cambio_base, vector_base_original)\n",
        "\n",
        "# Imprimir los resultados\n",
        "print(\"Vector en la base original:\", vector_base_original)\n",
        "print(\"Vector en la nueva base:\", vector_base_nueva)"
      ],
      "metadata": {
        "colab": {
          "base_uri": "https://localhost:8080/",
          "height": 0
        },
        "id": "klf60R5fFI_d",
        "outputId": "f4fe8e23-f2b3-4fc8-c16a-cd37d79cc081"
      },
      "execution_count": 76,
      "outputs": [
        {
          "output_type": "stream",
          "name": "stdout",
          "text": [
            "Vector en la base original: [8 4]\n",
            "Vector en la nueva base: [16 44]\n"
          ]
        }
      ]
    },
    {
      "cell_type": "markdown",
      "source": [
        "# LAS CONICAS \n",
        "Las cónicas son curvas que se obtienen mediante la intersección de un plano con un cono de doble nappes (dos hojas) o con un cilindro. Estas curvas tienen propiedades geométricas y algebraicas distintivas que las hacen objeto de estudio en la geometría analítica y el álgebra.\n",
        "\n",
        "Las cónicas más comunes son la circunferencia, la elipse, la parábola y la hipérbola. Cada una de estas curvas se caracteriza por sus propiedades particulares. Por ejemplo, la circunferencia es una curva cerrada en la que todos los puntos están a la misma distancia del centro, la elipse es una curva cerrada que tiene dos ejes y se asemeja a una \"forma ovalada\", la parábola es una curva abierta con un eje de simetría y la hipérbola es una curva abierta con dos ejes de simetría.\n",
        "\n",
        "Las cónicas tienen aplicaciones en diversas áreas, como la física, la ingeniería, la óptica y la astronomía. Por ejemplo, las órbitas planetarias se describen mediante el uso de cónicas. Además, las ecuaciones de las cónicas se utilizan en el análisis de datos, el diseño de lentes y espejos, y en la resolución de problemas geométricos y físicos.\n",
        "\n",
        "TIPOS DE CONICAS:\n",
        "\n",
        "- Elipse\n",
        "\n",
        "- Circulo\n",
        "\n",
        "- La Parabola\n",
        "\n",
        "- Hiperbole\n",
        "\n",
        "# ELIPSE:\n",
        "# EJEMPLO: "
      ],
      "metadata": {
        "id": "bik3kK5gGqoP"
      }
    },
    {
      "cell_type": "code",
      "source": [
        "import matplotlib.pyplot as plt\n",
        "import numpy as np\n",
        "\n",
        "# Parámetros de la elipse\n",
        "a = 3  # Semieje mayor\n",
        "b = 2  # Semieje menor\n",
        "theta = np.linspace(0, 2*np.pi, 100)  # Ángulos para trazar la elipse\n",
        "\n",
        "# Coordenadas de la elipse\n",
        "x = a * np.cos(theta)\n",
        "y = b * np.sin(theta)\n",
        "\n",
        "# Crear el gráfico\n",
        "plt.figure(figsize=(6, 6))\n",
        "plt.plot(x, y)\n",
        "\n",
        "# Ajustar los ejes y etiquetas\n",
        "plt.axis('equal')  # Hacer que los ejes tengan la misma escala\n",
        "plt.xlabel('Eje x')\n",
        "plt.ylabel('Eje y')\n",
        "plt.title('Elipse')\n",
        "\n",
        "# Mostrar el gráfico\n",
        "plt.show()\n"
      ],
      "metadata": {
        "colab": {
          "base_uri": "https://localhost:8080/",
          "height": 564
        },
        "id": "snqnMRPvHbEC",
        "outputId": "0b3baa32-44cb-4ca0-9f2f-16cd9ba47a8d"
      },
      "execution_count": 77,
      "outputs": [
        {
          "output_type": "display_data",
          "data": {
            "text/plain": [
              "<Figure size 600x600 with 1 Axes>"
            ],
            "image/png": "[encoded data removed]"
          },
          "metadata": {}
        }
      ]
    },
    {
      "cell_type": "markdown",
      "source": [
        "# CIRCULO:\n",
        "# EJEMPLO:"
      ],
      "metadata": {
        "id": "uFb7MdQJHh1K"
      }
    },
    {
      "cell_type": "code",
      "source": [
        "import matplotlib.pyplot as plt\n",
        "import numpy as np\n",
        "\n",
        "# Parámetros del círculo\n",
        "radius = 5  # Radio del círculo\n",
        "center = (0, 0)  # Centro del círculo\n",
        "\n",
        "# Ángulos para trazar el círculo\n",
        "theta = np.linspace(0, 2*np.pi, 100)\n",
        "\n",
        "# Coordenadas del círculo\n",
        "x = center[0] + radius * np.cos(theta)\n",
        "y = center[1] + radius * np.sin(theta)\n",
        "\n",
        "# Crear el gráfico\n",
        "plt.figure(figsize=(6, 6))\n",
        "plt.plot(x, y)\n",
        "\n",
        "# Ajustar los ejes y etiquetas\n",
        "plt.axis('equal')  # Hacer que los ejes tengan la misma escala\n",
        "plt.xlabel('Eje x')\n",
        "plt.ylabel('Eje y')\n",
        "plt.title('Círculo')\n",
        "\n",
        "# Mostrar el gráfico\n",
        "plt.show()\n"
      ],
      "metadata": {
        "colab": {
          "base_uri": "https://localhost:8080/",
          "height": 564
        },
        "id": "_N1LMPSaIkkp",
        "outputId": "0604d494-df65-488b-c3ee-0f48487b51ad"
      },
      "execution_count": 78,
      "outputs": [
        {
          "output_type": "display_data",
          "data": {
            "text/plain": [
              "<Figure size 600x600 with 1 Axes>"
            ],
            "image/png": "[encoded data removed]"
          },
          "metadata": {}
        }
      ]
    },
    {
      "cell_type": "markdown",
      "source": [
        "# PARABOLA:\n",
        "# EJEMPLO:"
      ],
      "metadata": {
        "id": "VOTeLODiIT4x"
      }
    },
    {
      "cell_type": "code",
      "source": [
        "import matplotlib.pyplot as plt\n",
        "import numpy as np\n",
        "\n",
        "# Parámetros de la parábola\n",
        "a = 1  # Coeficiente cuadrático\n",
        "b = 2  # Coeficiente lineal\n",
        "c = 1  # Término independiente\n",
        "\n",
        "# Rango de valores de x\n",
        "x = np.linspace(-10, 10, 100)\n",
        "\n",
        "# Ecuación de la parábola\n",
        "y = a * x**2 + b * x + c\n",
        "\n",
        "# Crear el gráfico\n",
        "plt.figure(figsize=(6, 6))\n",
        "plt.plot(x, y)\n",
        "\n",
        "# Ajustar los ejes y etiquetas\n",
        "plt.xlabel('Eje x')\n",
        "plt.ylabel('Eje y')\n",
        "plt.title('Parábola')\n",
        "\n",
        "# Mostrar el gráfico\n",
        "plt.show()\n"
      ],
      "metadata": {
        "colab": {
          "base_uri": "https://localhost:8080/",
          "height": 564
        },
        "id": "DwPQklPYJHLj",
        "outputId": "4ab94f74-413a-469e-b340-afe7e95400e0"
      },
      "execution_count": 79,
      "outputs": [
        {
          "output_type": "display_data",
          "data": {
            "text/plain": [
              "<Figure size 600x600 with 1 Axes>"
            ],
            "image/png": "[encoded data removed]"
          },
          "metadata": {}
        }
      ]
    },
    {
      "cell_type": "markdown",
      "source": [
        "# HIPERBOLA:\n",
        "# EJEMPLO:"
      ],
      "metadata": {
        "id": "qeW1VvFAIUYH"
      }
    },
    {
      "cell_type": "code",
      "source": [
        "import matplotlib.pyplot as plt\n",
        "import numpy as np\n",
        "\n",
        "# Parámetros de la hipérbola\n",
        "a = 2  # Semieje mayor\n",
        "b = 3  # Semieje menor\n",
        "\n",
        "# Rango de valores x\n",
        "x = np.linspace(-10, 10, 100)\n",
        "\n",
        "# Calcular los valores correspondientes de y\n",
        "y1 = np.sqrt((b**2 * x**2) / a**2 + b**2)\n",
        "y2 = -np.sqrt((b**2 * x**2) / a**2 + b**2)\n",
        "\n",
        "# Crear la figura y los ejes\n",
        "fig, ax = plt.subplots()\n",
        "\n",
        "# Graficar la hipérbola\n",
        "ax.plot(x, y1, label='y = sqrt((b^2 * x^2) / a^2 + b^2)')\n",
        "ax.plot(x, y2, label='y = -sqrt((b^2 * x^2) / a^2 + b^2)')\n",
        "\n",
        "# Configurar los límites de los ejes\n",
        "ax.set_xlim(-10, 10)\n",
        "ax.set_ylim(-10, 10)\n",
        "\n",
        "# Configurar aspecto de los ejes\n",
        "ax.axhline(0, color='black', linewidth=0.5)\n",
        "ax.axvline(0, color='black', linewidth=0.5)\n",
        "\n",
        "# Etiquetas de los ejes\n",
        "ax.set_xlabel('x')\n",
        "ax.set_ylabel('y')\n",
        "\n",
        "# Título del gráfico\n",
        "ax.set_title('Gráfico de una hipérbola')\n",
        "\n",
        "# Mostrar la leyenda\n",
        "ax.legend()\n",
        "\n",
        "# Mostrar el gráfico de la hipérbola\n",
        "plt.show()\n"
      ],
      "metadata": {
        "colab": {
          "base_uri": "https://localhost:8080/",
          "height": 472
        },
        "id": "v5ToTaUvJmtt",
        "outputId": "f9f4cd60-f2ee-45a5-bbb0-4d05af911d94"
      },
      "execution_count": 81,
      "outputs": [
        {
          "output_type": "display_data",
          "data": {
            "text/plain": [
              "<Figure size 640x480 with 1 Axes>"
            ],
            "image/png": "[encoded data removed]"
          },
          "metadata": {}
        }
      ]
    },
    {
      "cell_type": "markdown",
      "source": [
        "#**TRANSFORMACIONES LINEALES**\n",
        "Las transformaciones lineales, en el contexto de los espacios vectoriales, son funciones que preservan las operaciones de suma de vectores y multiplicación por escalares. En otras palabras, una transformación lineal toma un vector como entrada y produce otro vector como salida, y cumple dos propiedades fundamentales:\n",
        "\n",
        "Preserva la suma: Para dos vectores u y v, la transformación lineal T(u + v) es igual a T(u) + T(v).\n",
        "Preserva la multiplicación por escalares: Para un vector u y un escalar c, la transformación lineal T(cu) es igual a cT(u).\n",
        "Las transformaciones lineales pueden realizar diversas modificaciones a los vectores, como rotaciones, escalados, proyecciones, reflexiones, entre otros. Son ampliamente utilizadas en áreas como la geometría, álgebra lineal, análisis de imágenes, procesamiento de señales y muchos otros campos de las ciencias y la ingeniería.\n",
        "\n",
        "Matemáticamente, una transformación lineal se puede representar mediante una matriz, donde cada columna de la matriz representa la imagen de un vector de la base estándar. También se puede representar mediante una fórmula o una descripción verbal de cómo se transforman los vectores.\n",
        "\n",
        "#**TIPOS DE TRANSFORMACIONES LINEALES:**\n",
        "- TRANSLACION\n",
        "- ESCALAR\n",
        "- ROTACION\n",
        "\n",
        "#**TRANSLACION:**"
      ],
      "metadata": {
        "id": "LbB_B6VBNczO"
      }
    },
    {
      "cell_type": "code",
      "source": [
        "import numpy as np\n",
        "import matplotlib.pyplot as plt\n",
        "\n",
        "# Definir los puntos originales\n",
        "x = np.array([1, 3, 5])\n",
        "y = np.array([2, 4, 6])\n",
        "\n",
        "# Valores de traslación\n",
        "tx = 2\n",
        "ty = -1\n",
        "\n",
        "# Aplicar la traslación a los puntos\n",
        "x_trans = x + tx\n",
        "y_trans = y + ty\n",
        "\n",
        "# Crear la figura y los ejes\n",
        "fig, ax = plt.subplots()\n",
        "\n",
        "# Graficar los puntos originales y los puntos trasladados\n",
        "ax.plot(x, y, 'ro', label='Puntos originales')\n",
        "ax.plot(x_trans, y_trans, 'bo', label='Puntos trasladados')\n",
        "\n",
        "# Establecer límites de los ejes\n",
        "ax.set_xlim([-5, 10])\n",
        "ax.set_ylim([-5, 10])\n",
        "\n",
        "# Etiquetas de los ejes\n",
        "ax.set_xlabel('Eje X')\n",
        "ax.set_ylabel('Eje Y')\n",
        "\n",
        "# Título del gráfico\n",
        "ax.set_title('Traslación de puntos')\n",
        "\n",
        "# Mostrar leyenda y cuadrícula\n",
        "ax.legend()\n",
        "ax.grid(True)\n",
        "\n",
        "# Mostrar el gráfico\n",
        "plt.show()\n"
      ],
      "metadata": {
        "colab": {
          "base_uri": "https://localhost:8080/",
          "height": 472
        },
        "id": "TLxYau6-O1zZ",
        "outputId": "58e88363-9ec2-4575-ff73-36ff9af017f4"
      },
      "execution_count": 82,
      "outputs": [
        {
          "output_type": "display_data",
          "data": {
            "text/plain": [
              "<Figure size 640x480 with 1 Axes>"
            ],
            "image/png": "[encoded data removed]"
          },
          "metadata": {}
        }
      ]
    },
    {
      "cell_type": "markdown",
      "source": [
        "\n",
        "#**ESCALAR:**"
      ],
      "metadata": {
        "id": "zvbiyI82PBug"
      }
    },
    {
      "cell_type": "code",
      "source": [
        "import numpy as np\n",
        "\n",
        "def escala(x, y, sx, sy):\n",
        "    vector = np.array([x, y])\n",
        "    matriz_escala = np.array([[sx, 0],\n",
        "                              [0, sy]])\n",
        "    resultado = matriz_escala @ vector\n",
        "    return resultado[0], resultado[1]\n",
        "x = 5\n",
        "y = 6\n",
        "sx = 6\n",
        "sy = 2\n",
        "resultado = escala(x, y, sx, sy)\n",
        "print(resultado)"
      ],
      "metadata": {
        "colab": {
          "base_uri": "https://localhost:8080/",
          "height": 0
        },
        "id": "BkqKO3O_PSNd",
        "outputId": "c6a1ac76-d776-4342-aa29-4f15ab4b9dce"
      },
      "execution_count": 83,
      "outputs": [
        {
          "output_type": "stream",
          "name": "stdout",
          "text": [
            "(30, 12)\n"
          ]
        }
      ]
    },
    {
      "cell_type": "markdown",
      "source": [
        "#**ROTACION:**"
      ],
      "metadata": {
        "id": "n52TcQGxPeSA"
      }
    },
    {
      "cell_type": "code",
      "source": [
        "import numpy as np\n",
        "\n",
        "def escala(x, y, sx, sy):\n",
        "    vector = np.array([x, y])\n",
        "    matriz_escala = np.array([[sx, 0],\n",
        "                              [0, sy]])\n",
        "    resultado = matriz_escala @ vector\n",
        "    return resultado[0], resultado[1]\n",
        "x = 6\n",
        "y = 4\n",
        "sx = 7\n",
        "sy = 5\n",
        "resultado = escala(x, y, sx, sy)\n",
        "print(resultado)"
      ],
      "metadata": {
        "colab": {
          "base_uri": "https://localhost:8080/",
          "height": 0
        },
        "id": "tx6o7MWjPnJ3",
        "outputId": "9f81de4b-94f8-497b-9cc9-9124446b9093"
      },
      "execution_count": 85,
      "outputs": [
        {
          "output_type": "stream",
          "name": "stdout",
          "text": [
            "(42, 20)\n"
          ]
        }
      ]
    },
    {
      "cell_type": "markdown",
      "source": [
        "# **VECTORES PROPIOS**\n",
        "\n",
        "Los vectores propios, o eigenvectores, son vectores especiales que satisfacen la siguiente ecuación:\n",
        "\n",
        "A · v = λ · v\n",
        "\n",
        "donde A es una matriz cuadrada, v es el vector propio y λ es el valor propio correspondiente. Esta ecuación indica que al multiplicar la matriz A por el vector propio, se obtiene un nuevo vector que es paralelo (o antiparalelo) al vector original, pero escalado por el valor propio λ.\n",
        "\n",
        "Los vectores propios son importantes porque representan direcciones especiales en las que una matriz o una transformación lineal actúa de manera simplificada. Al encontrar los vectores propios y los valores propios de una matriz, podemos entender mejor cómo la matriz afecta los vectores en esas direcciones particulares.\n",
        "\n",
        "Los vectores propios tienen una amplia gama de aplicaciones en campos como física, ingeniería, ciencias de la computación y más. Se utilizan para resolver sistemas de ecuaciones lineales, diagonalizar matrices, analizar la estabilidad de sistemas dinámicos y procesar datos en diversas áreas.\n",
        "\n",
        "## **EJEMPLO:**\n",
        "\n",
        "$$\n",
        "Valor -propio.: \\left(\\begin{array}{cc} \n",
        " 5+7.071067811865476j\\\\\n",
        "\\end{array}\\right) \n",
        "Vector -propio.:\\left(\\begin{array}{cc}  [0.17213259+0.60858062j 0.77459667+0.j]\\\\\n",
        "\\end{array}\\right)\\\\\n",
        "$$"
      ],
      "metadata": {
        "id": "7h0oxpNvPuiy"
      }
    },
    {
      "cell_type": "code",
      "source": [
        "import numpy as np\n",
        "\n",
        "# Definir la matriz\n",
        "matriz = np.array([[7, -6],\n",
        "                   [9, 3]])\n",
        "valores_propios, vectores_propios = np.linalg.eig(matriz)\n",
        "\n",
        "# Imprimir los valores propios y los vectores propios\n",
        "for i in range(len(valores_propios)):\n",
        "    print(\"Valor propio:\", valores_propios[i])\n",
        "    print(\"Vector propio:\", vectores_propios[:, i])\n",
        "    print()"
      ],
      "metadata": {
        "colab": {
          "base_uri": "https://localhost:8080/",
          "height": 0
        },
        "id": "zzgfsf00QnkH",
        "outputId": "27674200-edee-44fb-ab02-3a59d77c41c4"
      },
      "execution_count": 86,
      "outputs": [
        {
          "output_type": "stream",
          "name": "stdout",
          "text": [
            "Valor propio: (5+7.071067811865476j)\n",
            "Vector propio: [0.17213259+0.60858062j 0.77459667+0.j        ]\n",
            "\n",
            "Valor propio: (5-7.071067811865476j)\n",
            "Vector propio: [0.17213259-0.60858062j 0.77459667-0.j        ]\n",
            "\n"
          ]
        }
      ]
    }
  ]
}